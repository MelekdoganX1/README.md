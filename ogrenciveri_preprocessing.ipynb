{
 "cells": [
  {
   "cell_type": "markdown",
   "id": "3c2a113d",
   "metadata": {},
   "source": [
    "# Öğrenci Cevapları Üzerinde Metin Ön İşleme\n",
    "Bu notebook, açık uçlu öğrenci cevapları içeren veri setine çeşitli metin ön işleme teknikleri uygular."
   ]
  },
  {
   "cell_type": "code",
   "execution_count": 1,
   "id": "450e2670",
   "metadata": {},
   "outputs": [
    {
     "name": "stderr",
     "output_type": "stream",
     "text": [
      "[nltk_data] Downloading package punkt to\n",
      "[nltk_data]     C:\\Users\\melek\\AppData\\Roaming\\nltk_data...\n",
      "[nltk_data]   Package punkt is already up-to-date!\n",
      "[nltk_data] Downloading package stopwords to\n",
      "[nltk_data]     C:\\Users\\melek\\AppData\\Roaming\\nltk_data...\n",
      "[nltk_data]   Package stopwords is already up-to-date!\n",
      "[nltk_data] Downloading package wordnet to\n",
      "[nltk_data]     C:\\Users\\melek\\AppData\\Roaming\\nltk_data...\n",
      "[nltk_data]   Package wordnet is already up-to-date!\n"
     ]
    },
    {
     "data": {
      "text/plain": [
       "True"
      ]
     },
     "execution_count": 1,
     "metadata": {},
     "output_type": "execute_result"
    }
   ],
   "source": [
    "import pandas as pd\n",
    "import nltk\n",
    "from nltk.tokenize import sent_tokenize, word_tokenize\n",
    "from nltk.corpus import stopwords\n",
    "from nltk.stem import WordNetLemmatizer, PorterStemmer\n",
    "import string\n",
    "\n",
    "nltk.download('punkt')\n",
    "nltk.download('stopwords')\n",
    "nltk.download('wordnet')\n"
   ]
  },
  {
   "cell_type": "markdown",
   "id": "a99ab2d3",
   "metadata": {},
   "source": [
    "## 1. Veri Setini Okuma"
   ]
  },
  {
   "cell_type": "code",
   "execution_count": 2,
   "id": "91a1f88e",
   "metadata": {},
   "outputs": [
    {
     "data": {
      "text/html": [
       "<div>\n",
       "<style scoped>\n",
       "    .dataframe tbody tr th:only-of-type {\n",
       "        vertical-align: middle;\n",
       "    }\n",
       "\n",
       "    .dataframe tbody tr th {\n",
       "        vertical-align: top;\n",
       "    }\n",
       "\n",
       "    .dataframe thead th {\n",
       "        text-align: right;\n",
       "    }\n",
       "</style>\n",
       "<table border=\"1\" class=\"dataframe\">\n",
       "  <thead>\n",
       "    <tr style=\"text-align: right;\">\n",
       "      <th></th>\n",
       "      <th>Question</th>\n",
       "      <th>Key_Answer</th>\n",
       "      <th>Student_Answer</th>\n",
       "      <th>Label</th>\n",
       "    </tr>\n",
       "  </thead>\n",
       "  <tbody>\n",
       "    <tr>\n",
       "      <th>0</th>\n",
       "      <td>Explain how gravity affects objects on Earth.</td>\n",
       "      <td>Gravity pulls objects toward the center of the...</td>\n",
       "      <td>Gravity keeps us on the ground and makes thing...</td>\n",
       "      <td>correct</td>\n",
       "    </tr>\n",
       "    <tr>\n",
       "      <th>1</th>\n",
       "      <td>Describe the function of the heart in the huma...</td>\n",
       "      <td>The heart pumps blood throughout the body, sup...</td>\n",
       "      <td>It moves blood around so the body gets what it...</td>\n",
       "      <td>correct</td>\n",
       "    </tr>\n",
       "    <tr>\n",
       "      <th>2</th>\n",
       "      <td>Why is recycling important?</td>\n",
       "      <td>Recycling reduces waste, conserves resources, ...</td>\n",
       "      <td>It helps the Earth and stops trash from piling...</td>\n",
       "      <td>correct</td>\n",
       "    </tr>\n",
       "    <tr>\n",
       "      <th>3</th>\n",
       "      <td>Explain how gravity affects objects on Earth.</td>\n",
       "      <td>Gravity pulls objects toward the center of the...</td>\n",
       "      <td>Gravity keeps us on the ground and makes thing...</td>\n",
       "      <td>correct</td>\n",
       "    </tr>\n",
       "    <tr>\n",
       "      <th>4</th>\n",
       "      <td>Why is recycling important?</td>\n",
       "      <td>Recycling reduces waste, conserves resources, ...</td>\n",
       "      <td>It helps the Earth and stops trash from piling...</td>\n",
       "      <td>correct</td>\n",
       "    </tr>\n",
       "  </tbody>\n",
       "</table>\n",
       "</div>"
      ],
      "text/plain": [
       "                                            Question  \\\n",
       "0      Explain how gravity affects objects on Earth.   \n",
       "1  Describe the function of the heart in the huma...   \n",
       "2                        Why is recycling important?   \n",
       "3      Explain how gravity affects objects on Earth.   \n",
       "4                        Why is recycling important?   \n",
       "\n",
       "                                          Key_Answer  \\\n",
       "0  Gravity pulls objects toward the center of the...   \n",
       "1  The heart pumps blood throughout the body, sup...   \n",
       "2  Recycling reduces waste, conserves resources, ...   \n",
       "3  Gravity pulls objects toward the center of the...   \n",
       "4  Recycling reduces waste, conserves resources, ...   \n",
       "\n",
       "                                      Student_Answer    Label  \n",
       "0  Gravity keeps us on the ground and makes thing...  correct  \n",
       "1  It moves blood around so the body gets what it...  correct  \n",
       "2  It helps the Earth and stops trash from piling...  correct  \n",
       "3  Gravity keeps us on the ground and makes thing...  correct  \n",
       "4  It helps the Earth and stops trash from piling...  correct  "
      ]
     },
     "execution_count": 2,
     "metadata": {},
     "output_type": "execute_result"
    }
   ],
   "source": [
    "df = pd.read_csv(\"C:/Users/melek/Downloads/large_student_answer_dataset.csv\")\n",
    "df.head()\n"
   ]
  },
  {
   "cell_type": "markdown",
   "id": "f33a0317",
   "metadata": {},
   "source": [
    "## 2. Metin Ön İşleme Fonksiyonları"
   ]
  },
  {
   "cell_type": "code",
   "execution_count": 3,
   "id": "bcbe2277",
   "metadata": {},
   "outputs": [],
   "source": [
    "stop_words = set(stopwords.words(\"english\"))\n",
    "lemmatizer = WordNetLemmatizer()\n",
    "stemmer = PorterStemmer()\n",
    "\n",
    "def preprocess_text(text):\n",
    "    sentences = sent_tokenize(str(text))\n",
    "    processed_lemma = []\n",
    "    processed_stem = []\n",
    "    \n",
    "    for sent in sentences:\n",
    "        words = word_tokenize(sent)\n",
    "        words = [w.lower() for w in words if w.isalpha() and w.lower() not in stop_words]\n",
    "        \n",
    "        lemmatized = [lemmatizer.lemmatize(w) for w in words]\n",
    "        stemmed = [stemmer.stem(w) for w in words]\n",
    "        \n",
    "        processed_lemma.append(lemmatized)\n",
    "        processed_stem.append(stemmed)\n",
    "    \n",
    "    return processed_lemma, processed_stem\n"
   ]
  },
  {
   "cell_type": "markdown",
   "id": "618f32a0",
   "metadata": {},
   "source": [
    "## 3. Örnek Cevaplara Uygulama ve Karşılaştırma"
   ]
  },
  {
   "cell_type": "code",
   "execution_count": 4,
   "id": "6fe8c59b",
   "metadata": {},
   "outputs": [
    {
     "name": "stdout",
     "output_type": "stream",
     "text": [
      "\n",
      "Text 1:\n",
      "It moves blood around so the body gets what it needs. - elaboration 64239\n",
      "Lemmas: [['move', 'blood', 'around', 'body', 'get', 'need'], ['elaboration']]\n",
      "Stems: [['move', 'blood', 'around', 'bodi', 'get', 'need'], ['elabor']]\n",
      "\n",
      "Text 2:\n",
      "It moves blood around so the body gets what it needs. - elaboration 35778\n",
      "Lemmas: [['move', 'blood', 'around', 'body', 'get', 'need'], ['elaboration']]\n",
      "Stems: [['move', 'blood', 'around', 'bodi', 'get', 'need'], ['elabor']]\n",
      "\n",
      "Text 3:\n",
      "It helps the Earth and stops trash from piling up. - elaboration 71241\n",
      "Lemmas: [['help', 'earth', 'stop', 'trash', 'piling'], ['elaboration']]\n",
      "Stems: [['help', 'earth', 'stop', 'trash', 'pile'], ['elabor']]\n",
      "\n",
      "Text 4:\n",
      "Gravity keeps us on the ground and makes things fall. - elaboration 74143\n",
      "Lemmas: [['gravity', 'keep', 'u', 'ground', 'make', 'thing', 'fall'], ['elaboration']]\n",
      "Stems: [['graviti', 'keep', 'us', 'ground', 'make', 'thing', 'fall'], ['elabor']]\n",
      "\n",
      "Text 5:\n",
      "It helps the Earth and stops trash from piling up. - elaboration 47688\n",
      "Lemmas: [['help', 'earth', 'stop', 'trash', 'piling'], ['elaboration']]\n",
      "Stems: [['help', 'earth', 'stop', 'trash', 'pile'], ['elabor']]\n"
     ]
    }
   ],
   "source": [
    "sample_texts = df[\"Student_Answer\"].dropna().sample(5, random_state=42).tolist()\n",
    "\n",
    "sample_texts = df[\"Student_Answer\"].dropna().sample(5, random_state=42).tolist()\n",
    "\n",
    "for i, text in enumerate(sample_texts):\n",
    "    lemmas, stems = preprocess_text(text)  # Burada preprocess_text fonksiyonun varsa\n",
    "    print(f\"\\nText {i+1}:\\n{text}\\nLemmas: {lemmas}\\nStems: {stems}\")\n",
    "\n"
   ]
  },
  {
   "cell_type": "code",
   "execution_count": null,
   "id": "ef4f16d5-d9db-4a5d-8f2f-b13ca4c458b2",
   "metadata": {},
   "outputs": [],
   "source": []
  },
  {
   "cell_type": "code",
   "execution_count": null,
   "id": "e12f06ac-93d3-4f24-aab5-4033c987cb62",
   "metadata": {},
   "outputs": [],
   "source": [
    "\n"
   ]
  },
  {
   "cell_type": "code",
   "execution_count": null,
   "id": "9b17cd9e-271a-4c11-bc8d-7c6b03f4f589",
   "metadata": {},
   "outputs": [],
   "source": []
  }
 ],
 "metadata": {
  "kernelspec": {
   "display_name": "Python 3 (ipykernel)",
   "language": "python",
   "name": "python3"
  },
  "language_info": {
   "codemirror_mode": {
    "name": "ipython",
    "version": 3
   },
   "file_extension": ".py",
   "mimetype": "text/x-python",
   "name": "python",
   "nbconvert_exporter": "python",
   "pygments_lexer": "ipython3",
   "version": "3.12.7"
  }
 },
 "nbformat": 4,
 "nbformat_minor": 5
}
